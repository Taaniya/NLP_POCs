{
 "cells": [
  {
   "cell_type": "markdown",
   "metadata": {},
   "source": [
    "This notebook demonstrates training a gensim's Word2Vec model in a way that expoits the model's capabilities of representing words occuring together with close representations in the embedding space.The word embeddings are visualized with t-SNE.\n"
   ]
  },
  {
   "cell_type": "code",
   "execution_count": 1,
   "metadata": {},
   "outputs": [],
   "source": [
    "import warnings\n",
    "warnings.filterwarnings('ignore')\n",
    "\n",
    "from gensim.models import Word2Vec\n",
    "import nltk\n",
    "from nltk.tokenize import sent_tokenize,word_tokenize\n",
    "from sklearn.metrics.pairwise import cosine_similarity\n",
    "from sklearn.manifold import TSNE\n",
    "import pandas as pd\n",
    "import matplotlib.pyplot as plt"
   ]
  },
  {
   "cell_type": "markdown",
   "metadata": {},
   "source": [
    "This training dataset talks about mainly 4 entities while also providing their definitions. The vocabulary is\n",
    "used with minimum words just like we would do for a naive kid who is starting to learn. With the kind of vocabulary used to define the entities, it is easy to distinguish between them.\n",
    "\n",
    "It makes sense to do that since, using new vocabulary to define anything to a human (who doesn't know any more words than those provided in the vocabulary introduced to her) would also create an impression that every definition is independent of its own and the person will also find the associated entities completely different from each other."
   ]
  },
  {
   "cell_type": "code",
   "execution_count": 38,
   "metadata": {},
   "outputs": [],
   "source": [
    "sentences = ['cat is a mammal with fur four legs a tail and claws kept as a pet',\n",
    "            'dog is a mammal with four legs a tail kept as a pet or to hunt or guard things',\n",
    "             'a mammal is an animal like dog or humans have hair or fur',\n",
    "            'eagle is a large bird of prey with a hooked beak and long broad wings',\n",
    "            'crow is a large bird with glossy black plumage a heavy beak and a raucous voice',\n",
    "             'a bird is an animal with feathers wings a beak and can fly']"
   ]
  },
  {
   "cell_type": "markdown",
   "metadata": {},
   "source": [
    "Preparing training data in the form of list of tokenized sentences required as input for gensim's Word2Vec model for training."
   ]
  },
  {
   "cell_type": "code",
   "execution_count": 39,
   "metadata": {},
   "outputs": [],
   "source": [
    "training_data = [word_tokenize(sent) for sent in sentences]"
   ]
  },
  {
   "cell_type": "markdown",
   "metadata": {},
   "source": [
    "Model training"
   ]
  },
  {
   "cell_type": "code",
   "execution_count": 64,
   "metadata": {},
   "outputs": [
    {
     "data": {
      "text/plain": [
       "gensim.models.word2vec.Word2Vec"
      ]
     },
     "execution_count": 64,
     "metadata": {},
     "output_type": "execute_result"
    }
   ],
   "source": [
    "model = Word2Vec(training_data,min_count=1,seed=6)            # works fine with both skip-gram and cbow training model\n",
    "type(model)"
   ]
  },
  {
   "cell_type": "markdown",
   "metadata": {},
   "source": [
    "Obtaining vocabulary as a list of words"
   ]
  },
  {
   "cell_type": "code",
   "execution_count": 69,
   "metadata": {
    "scrolled": true
   },
   "outputs": [],
   "source": [
    "vocab = list(model.wv.vocab)"
   ]
  },
  {
   "cell_type": "markdown",
   "metadata": {},
   "source": [
    "Obtaining a NumPy vector representation of each word in the vocabulary"
   ]
  },
  {
   "cell_type": "code",
   "execution_count": 62,
   "metadata": {
    "scrolled": true
   },
   "outputs": [],
   "source": [
    "x = model[vocab]"
   ]
  },
  {
   "cell_type": "code",
   "execution_count": 68,
   "metadata": {},
   "outputs": [
    {
     "data": {
      "text/plain": [
       "(46, 100)"
      ]
     },
     "execution_count": 68,
     "metadata": {},
     "output_type": "execute_result"
    }
   ],
   "source": [
    "x.shape"
   ]
  },
  {
   "cell_type": "markdown",
   "metadata": {},
   "source": [
    "#### Using t-SNE for visualizing high-dimensional data\n",
    "\n",
    "t-distributed stochastic neighbourhood embedding method converts similarities between data points to joint probabilities and tries to minimize the Kullback-Liebler divergence between the joint probabilities of the low-dimensinal embedding and the high-dimensional data.This technique reliably embeds closely located high-dimensional word vectors as vectors which are close to each other in 2 dimensional space aslo."
   ]
  },
  {
   "cell_type": "code",
   "execution_count": 48,
   "metadata": {},
   "outputs": [],
   "source": [
    "tsne = TSNE(n_components=2)"
   ]
  },
  {
   "cell_type": "markdown",
   "metadata": {},
   "source": [
    "Obatining 2D representations of the word vectors"
   ]
  },
  {
   "cell_type": "code",
   "execution_count": 49,
   "metadata": {},
   "outputs": [],
   "source": [
    "reduced_matrix = tsne.fit_transform(x)"
   ]
  },
  {
   "cell_type": "markdown",
   "metadata": {},
   "source": [
    "Converting the vector matrix into Pandas dataframe"
   ]
  },
  {
   "cell_type": "code",
   "execution_count": 50,
   "metadata": {},
   "outputs": [],
   "source": [
    "df = pd.DataFrame(reduced_matrix,index=vocab, columns=['x','y'])"
   ]
  },
  {
   "cell_type": "code",
   "execution_count": 51,
   "metadata": {},
   "outputs": [
    {
     "data": {
      "image/png": "[encoded data removed]",
      "text/plain": [
       "<Figure size 432x288 with 1 Axes>"
      ]
     },
     "metadata": {},
     "output_type": "display_data"
    }
   ],
   "source": [
    "fig = plt.figure()\n",
    "ax = fig.add_subplot(1, 1, 1)\n",
    "\n",
    "ax.scatter(df['x'], df['y'])\n",
    "for word, pos in df.iterrows():\n",
    "    ax.annotate(word, pos)\n",
    "plt.show()    "
   ]
  },
  {
   "cell_type": "markdown",
   "metadata": {},
   "source": [
    "Word vectors located closeby to a particular entity in the embedding space"
   ]
  },
  {
   "cell_type": "code",
   "execution_count": 52,
   "metadata": {},
   "outputs": [
    {
     "data": {
      "text/plain": [
       "[('things', 0.2266710102558136),\n",
       " ('an', 0.1840348243713379),\n",
       " ('have', 0.11740227043628693),\n",
       " ('hooked', 0.11077071726322174),\n",
       " ('large', 0.1096457839012146),\n",
       " ('of', 0.09338793158531189),\n",
       " ('or', 0.09179329872131348),\n",
       " ('is', 0.08996278047561646),\n",
       " ('voice', 0.08193450421094894),\n",
       " ('four', 0.07950809597969055)]"
      ]
     },
     "execution_count": 52,
     "metadata": {},
     "output_type": "execute_result"
    }
   ],
   "source": [
    "model.wv.most_similar('cat')"
   ]
  },
  {
   "cell_type": "code",
   "execution_count": 53,
   "metadata": {},
   "outputs": [
    {
     "data": {
      "text/plain": [
       "[('broad', 0.1989930272102356),\n",
       " ('an', 0.15907706320285797),\n",
       " ('bird', 0.1401815414428711),\n",
       " ('hair', 0.13465756177902222),\n",
       " ('voice', 0.12854355573654175),\n",
       " ('plumage', 0.09753218293190002),\n",
       " ('have', 0.0866154208779335),\n",
       " ('can', 0.08360810577869415),\n",
       " ('a', 0.0800592452287674),\n",
       " ('heavy', 0.07070364058017731)]"
      ]
     },
     "execution_count": 53,
     "metadata": {},
     "output_type": "execute_result"
    }
   ],
   "source": [
    "model.wv.most_similar(\"dog\")"
   ]
  },
  {
   "cell_type": "code",
   "execution_count": 54,
   "metadata": {},
   "outputs": [
    {
     "data": {
      "text/plain": [
       "[('guard', 0.24178168177604675),\n",
       " ('kept', 0.23465438187122345),\n",
       " ('can', 0.18545672297477722),\n",
       " ('humans', 0.14576897025108337),\n",
       " ('beak', 0.14217688143253326),\n",
       " ('bird', 0.0990469679236412),\n",
       " ('voice', 0.08126670122146606),\n",
       " ('tail', 0.07026726752519608),\n",
       " ('claws', 0.06882186233997345),\n",
       " ('to', 0.05633120983839035)]"
      ]
     },
     "execution_count": 54,
     "metadata": {},
     "output_type": "execute_result"
    }
   ],
   "source": [
    "model.wv.most_similar(\"eagle\")"
   ]
  },
  {
   "cell_type": "code",
   "execution_count": 55,
   "metadata": {},
   "outputs": [
    {
     "data": {
      "text/plain": [
       "[('black', 0.19964396953582764),\n",
       " ('prey', 0.192592591047287),\n",
       " ('heavy', 0.164266899228096),\n",
       " ('fur', 0.1475100815296173),\n",
       " ('long', 0.13782013952732086),\n",
       " ('feathers', 0.12547951936721802),\n",
       " ('is', 0.12098678201436996),\n",
       " ('can', 0.12000662088394165),\n",
       " ('humans', 0.10736741125583649),\n",
       " ('glossy', 0.09908254444599152)]"
      ]
     },
     "execution_count": 55,
     "metadata": {},
     "output_type": "execute_result"
    }
   ],
   "source": [
    "model.wv.most_similar(\"crow\")"
   ]
  },
  {
   "cell_type": "markdown",
   "metadata": {},
   "source": [
    "Cosine similarity between cat and dog"
   ]
  },
  {
   "cell_type": "code",
   "execution_count": 74,
   "metadata": {},
   "outputs": [
    {
     "data": {
      "text/plain": [
       "array([[-0.04492159]], dtype=float32)"
      ]
     },
     "execution_count": 74,
     "metadata": {},
     "output_type": "execute_result"
    }
   ],
   "source": [
    "cosine_similarity(model['cat'].reshape(1,-1),model['dog'].reshape(1,-1))"
   ]
  },
  {
   "cell_type": "markdown",
   "metadata": {},
   "source": [
    "Cosine similarity between cat and eagle"
   ]
  },
  {
   "cell_type": "code",
   "execution_count": 57,
   "metadata": {},
   "outputs": [
    {
     "data": {
      "text/plain": [
       "array([[-0.05000591]], dtype=float32)"
      ]
     },
     "execution_count": 57,
     "metadata": {},
     "output_type": "execute_result"
    }
   ],
   "source": [
    "cosine_similarity(model['cat'].reshape(1,-1),model['crow'].reshape(1,-1))"
   ]
  },
  {
   "cell_type": "markdown",
   "metadata": {},
   "source": [
    "Is similarity between cat and dog greater than cat and eagle?"
   ]
  },
  {
   "cell_type": "code",
   "execution_count": 58,
   "metadata": {},
   "outputs": [
    {
     "data": {
      "text/plain": [
       "array([[ True]])"
      ]
     },
     "execution_count": 58,
     "metadata": {},
     "output_type": "execute_result"
    }
   ],
   "source": [
    "cosine_similarity(model['cat'].reshape(1,-1),model['dog'].reshape(1,-1)) > \\\n",
    "cosine_similarity(model['cat'].reshape(1,-1),model['crow'].reshape(1,-1))"
   ]
  },
  {
   "cell_type": "markdown",
   "metadata": {},
   "source": [
    "Cosine similarity between eagle and crow"
   ]
  },
  {
   "cell_type": "code",
   "execution_count": 59,
   "metadata": {},
   "outputs": [
    {
     "data": {
      "text/plain": [
       "array([[-0.08505214]], dtype=float32)"
      ]
     },
     "execution_count": 59,
     "metadata": {},
     "output_type": "execute_result"
    }
   ],
   "source": [
    "cosine_similarity(model['eagle'].reshape(1,-1),model['crow'].reshape(1,-1))"
   ]
  },
  {
   "cell_type": "markdown",
   "metadata": {},
   "source": [
    "Cosine similarity between eagle and dog"
   ]
  },
  {
   "cell_type": "code",
   "execution_count": 60,
   "metadata": {},
   "outputs": [
    {
     "data": {
      "text/plain": [
       "array([[-0.12201466]], dtype=float32)"
      ]
     },
     "execution_count": 60,
     "metadata": {},
     "output_type": "execute_result"
    }
   ],
   "source": [
    "cosine_similarity(model['eagle'].reshape(1,-1),model['dog'].reshape(1,-1))"
   ]
  },
  {
   "cell_type": "markdown",
   "metadata": {},
   "source": [
    "Is similarity between eagle and crow greater than eagle and dog?"
   ]
  },
  {
   "cell_type": "code",
   "execution_count": 61,
   "metadata": {
    "scrolled": true
   },
   "outputs": [
    {
     "data": {
      "text/plain": [
       "array([[ True]])"
      ]
     },
     "execution_count": 61,
     "metadata": {},
     "output_type": "execute_result"
    }
   ],
   "source": [
    "cosine_similarity(model['eagle'].reshape(1,-1),model['crow'].reshape(1,-1)) >\\\n",
    "cosine_similarity(model['eagle'].reshape(1,-1),model['dog'].reshape(1,-1))"
   ]
  }
 ],
 "metadata": {
  "kernelspec": {
   "display_name": "Python 3",
   "language": "python",
   "name": "python3"
  },
  "language_info": {
   "codemirror_mode": {
    "name": "ipython",
    "version": 3
   },
   "file_extension": ".py",
   "mimetype": "text/x-python",
   "name": "python",
   "nbconvert_exporter": "python",
   "pygments_lexer": "ipython3",
   "version": "3.6.5"
  }
 },
 "nbformat": 4,
 "nbformat_minor": 2
}
